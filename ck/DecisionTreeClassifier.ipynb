{
  "nbformat": 4,
  "nbformat_minor": 0,
  "metadata": {
    "colab": {
      "provenance": []
    },
    "kernelspec": {
      "name": "python3",
      "display_name": "Python 3"
    },
    "language_info": {
      "name": "python"
    }
  },
  "cells": [
    {
      "cell_type": "code",
      "execution_count": null,
      "metadata": {
        "id": "Uxd0k2TAuNKs"
      },
      "outputs": [],
      "source": [
        "import numpy as np\n",
        "import matplotlib.pyplot as plt\n",
        "from sklearn import tree\n",
        "import random"
      ]
    },
    {
      "cell_type": "code",
      "source": [
        "data = np.zeros((100, 100), dtype='int')\n",
        "data[15:50, 40:45] = 1\n",
        "data[40:50, 45:65] = 1\n",
        "data[15:40, 60:65] = 1\n",
        "\n",
        "data[0:30, 50:55] = 2\n",
        "data[0:10, 55:75] = 2\n",
        "data[10:30, 70:75] = 2\n",
        "\n",
        "X = []\n",
        "Y = []\n",
        "x_coord = []\n",
        "y_coord = []\n",
        "for i in range(100):\n",
        "  for j in range(100):\n",
        "    if data[i, j] > 0:\n",
        "      X.append([j, i])\n",
        "      Y.append(data[i, j])\n",
        "      x_coord.append(j)\n",
        "      y_coord.append(i)\n",
        "\n",
        "plt.scatter(x_coord, y_coord)\n",
        "\n",
        "T = 15 # кол-во деревьев\n",
        "m = int(len(Y)  * 0.65) # размер подвыборки для бутстрапа\n",
        "Xs = []\n",
        "Ys = []\n",
        "for _ in range(T):\n",
        "  Xs.append([])\n",
        "  Ys.append([])\n",
        "  for i in range(m):\n",
        "    index = random.randint(0, len(X) - 1)\n",
        "    Xs[-1].append(X[index])\n",
        "    Ys[-1].append(Y[index])\n",
        "\n",
        "trees = []\n",
        "for t in range(T):\n",
        "  trees.append(tree.DecisionTreeClassifier())\n",
        "  trees[-1].fit(Xs[t], Ys[t])\n",
        "\n",
        "# tree.plot_tree(trees[0])"
      ],
      "metadata": {
        "colab": {
          "base_uri": "https://localhost:8080/",
          "height": 430
        },
        "id": "JiufHM0OuOrm",
        "outputId": "dbac49e4-d1a6-49cf-9771-4dab350548ea"
      },
      "execution_count": null,
      "outputs": [
        {
          "output_type": "display_data",
          "data": {
            "text/plain": [
              "<Figure size 640x480 with 1 Axes>"
            ],
            "image/png": "[encoded data removed]"
          },
          "metadata": {}
        }
      ]
    },
    {
      "cell_type": "code",
      "source": [
        "def get_predict(trees, o):\n",
        "  c = 0\n",
        "  for t in trees:\n",
        "    c += -1 if t.predict(o) == 1 else 1\n",
        "\n",
        "  return 1 if c <= 0 else 2"
      ],
      "metadata": {
        "id": "_r1lTOSK5-Vo"
      },
      "execution_count": null,
      "outputs": []
    },
    {
      "cell_type": "code",
      "source": [
        "print(get_predict(trees, [[14, 40]]))"
      ],
      "metadata": {
        "colab": {
          "base_uri": "https://localhost:8080/"
        },
        "id": "78805gIu63yT",
        "outputId": "09b5e41b-ac1b-447c-e9b5-9c72231b79c7"
      },
      "execution_count": null,
      "outputs": [
        {
          "output_type": "stream",
          "name": "stdout",
          "text": [
            "1\n"
          ]
        }
      ]
    },
    {
      "cell_type": "code",
      "source": [
        "row = 20\n",
        "columns = 75\n",
        "\n",
        "for column in range(0, columns):\n",
        "  print(get_predict(trees, [[column, row]]))"
      ],
      "metadata": {
        "colab": {
          "base_uri": "https://localhost:8080/"
        },
        "id": "gegCia327Mrm",
        "outputId": "ffdbec08-8c57-4920-f0cb-4ac703c26a1f"
      },
      "execution_count": null,
      "outputs": [
        {
          "output_type": "stream",
          "name": "stdout",
          "text": [
            "1\n",
            "1\n",
            "1\n",
            "1\n",
            "1\n",
            "1\n",
            "1\n",
            "1\n",
            "1\n",
            "1\n",
            "1\n",
            "1\n",
            "1\n",
            "1\n",
            "1\n",
            "1\n",
            "1\n",
            "1\n",
            "1\n",
            "1\n",
            "1\n",
            "1\n",
            "1\n",
            "1\n",
            "1\n",
            "1\n",
            "1\n",
            "1\n",
            "1\n",
            "1\n",
            "1\n",
            "1\n",
            "1\n",
            "1\n",
            "1\n",
            "1\n",
            "1\n",
            "1\n",
            "1\n",
            "1\n",
            "1\n",
            "1\n",
            "1\n",
            "1\n",
            "1\n",
            "1\n",
            "1\n",
            "1\n",
            "2\n",
            "2\n",
            "2\n",
            "2\n",
            "2\n",
            "2\n",
            "2\n",
            "2\n",
            "2\n",
            "2\n",
            "1\n",
            "1\n",
            "1\n",
            "1\n",
            "1\n",
            "1\n",
            "1\n",
            "1\n",
            "1\n",
            "1\n",
            "2\n",
            "2\n",
            "2\n",
            "2\n",
            "2\n",
            "2\n",
            "2\n"
          ]
        }
      ]
    }
  ]
}