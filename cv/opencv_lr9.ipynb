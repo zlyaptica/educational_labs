{
  "cells": [
    {
      "cell_type": "code",
      "execution_count": null,
      "id": "2a68a432",
      "metadata": {
        "id": "2a68a432"
      },
      "outputs": [],
      "source": [
        "import cv2\n",
        "import numpy as np\n",
        "from google.colab.patches import cv2_imshow"
      ]
    },
    {
      "cell_type": "code",
      "execution_count": null,
      "id": "eqmNNMfXtpgh",
      "metadata": {
        "colab": {
          "base_uri": "https://localhost:8080/"
        },
        "id": "eqmNNMfXtpgh",
        "outputId": "aea6cddb-4dfc-4ab5-e3a4-5819fc18e780"
      },
      "outputs": [
        {
          "output_type": "stream",
          "name": "stdout",
          "text": [
            "Mounted at /content/drive\n"
          ]
        }
      ],
      "source": [
        "from google.colab import drive\n",
        "drive.mount('/content/drive')"
      ]
    },
    {
      "cell_type": "code",
      "execution_count": null,
      "id": "2c294444",
      "metadata": {
        "id": "2c294444"
      },
      "outputs": [],
      "source": [
        "cap = cv2.VideoCapture('/content/drive/MyDrive/ForColab/input.mp4')"
      ]
    },
    {
      "cell_type": "code",
      "execution_count": null,
      "id": "07348c41",
      "metadata": {
        "id": "07348c41"
      },
      "outputs": [],
      "source": [
        "fps = round(cap.get(cv2.CAP_PROP_FPS))\n",
        "\n",
        "width = int(cap.get(cv2.CAP_PROP_FRAME_WIDTH))\n",
        "height = int(cap.get(cv2.CAP_PROP_FRAME_HEIGHT))\n",
        "\n",
        "fourcc = cv2.VideoWriter_fourcc(*'MP4V')\n",
        "out = cv2.VideoWriter('output.mp4', fourcc, fps, (width, height))"
      ]
    },
    {
      "cell_type": "code",
      "execution_count": null,
      "id": "67b1e27f",
      "metadata": {
        "collapsed": true,
        "id": "67b1e27f"
      },
      "outputs": [],
      "source": [
        "current_frame = 1\n",
        "\n",
        "while(cap.isOpened()):\n",
        "    ret, frame = cap.read()\n",
        "\n",
        "    if not ret:\n",
        "      break\n",
        "\n",
        "    if frame is None:\n",
        "      break\n",
        "\n",
        "    seconds_count = current_frame // fps\n",
        "\n",
        "    if seconds_count < 5:\n",
        "      cv2.putText(frame, \"Original frame\", (20, 20), cv2.FONT_HERSHEY_SIMPLEX, 1, (255,255,255), 2)\n",
        "    elif 6 <= seconds_count < 10:\n",
        "      kernel = np.ones((3, 3), np.uint8) / 9\n",
        "      frame = cv2.filter2D(frame, -1, kernel)\n",
        "      cv2.putText(frame, \"Blur with 3x3 kernel\", (20, 20), cv2.FONT_HERSHEY_SIMPLEX, 1, (255,255,255), 2)\n",
        "    elif seconds_count < 15:\n",
        "      kernel = np.ones((5, 5), np.uint8) / 25\n",
        "      frame = cv2.filter2D(frame, -1, kernel)\n",
        "      cv2.putText(frame, \"Blur with 5x5 kernel\", (20, 20), cv2.FONT_HERSHEY_SIMPLEX, 1, (255,255,255), 2)\n",
        "    elif seconds_count < 20:\n",
        "      kernel = np.ones((9, 9), np.uint8) / 81\n",
        "      frame = cv2.filter2D(frame, -1, kernel)\n",
        "      cv2.putText(frame, \"Blur with 9x9 kernel\", (20, 20), cv2.FONT_HERSHEY_SIMPLEX, 1, (255,255,255), 2)\n",
        "    elif seconds_count < 25:\n",
        "      kernel = np.ones((15, 15), np.uint8) / 225\n",
        "      frame = cv2.filter2D(frame, -1, kernel)\n",
        "      cv2.putText(frame, \"Blur with 15x15 kernel\", (20, 20), cv2.FONT_HERSHEY_SIMPLEX, 1, (255,255,255), 2)\n",
        "    elif seconds_count < 30:\n",
        "      frame[:, :, 0] = np.zeros(frame[:, :, 0].shape)\n",
        "      cv2.putText(frame, \"Blue channel = 0\", (20, 20), cv2.FONT_HERSHEY_SIMPLEX, 1, (255,255,255), 2)\n",
        "    elif seconds_count < 35:\n",
        "      frame[:, :, 1] = np.zeros(frame[:, :, 1].shape)\n",
        "      cv2.putText(frame, \"Green channel = 0\", (20, 20), cv2.FONT_HERSHEY_SIMPLEX, 1, (255,255,255), 2)\n",
        "    elif seconds_count < 40:\n",
        "      frame[:, :, 2] = np.zeros(frame[:, :, 2].shape)\n",
        "      cv2.putText(frame, \"Red channel = 0\", (20, 20), cv2.FONT_HERSHEY_SIMPLEX, 1, (255,255,255), 2)\n",
        "    elif seconds_count < 45:\n",
        "      kernel = np.ones((3, 3), np.uint8)\n",
        "      frame = cv2.erode(frame, kernel)\n",
        "      cv2.putText(frame, \"Erode with 3x3 kernel\", (20, 20), cv2.FONT_HERSHEY_SIMPLEX, 1, (255,255,255), 2)\n",
        "    elif seconds_count < 50:\n",
        "      kernel = np.ones((5, 5), np.uint8)\n",
        "      frame = cv2.erode(frame, kernel)\n",
        "      cv2.putText(frame, \"Erode with 5x5 kernel\", (20, 20), cv2.FONT_HERSHEY_SIMPLEX, 1, (255,255,255), 2)\n",
        "\n",
        "    # cv2_imshow(frame)\n",
        "    out.write(frame)\n",
        "    current_frame += 1\n",
        "\n",
        "# When everything done, release the capture\n",
        "cap.release()\n",
        "out.release()"
      ]
    },
    {
      "cell_type": "code",
      "execution_count": null,
      "id": "_h_nm1VAEQcL",
      "metadata": {
        "colab": {
          "base_uri": "https://localhost:8080/"
        },
        "id": "_h_nm1VAEQcL",
        "outputId": "f7e72057-52aa-48fc-f9ae-e711c0d26950"
      },
      "outputs": [
        {
          "output_type": "stream",
          "name": "stdout",
          "text": [
            "Cloning into 'opencv'...\n",
            "remote: Enumerating objects: 343874, done.\u001b[K\n",
            "remote: Counting objects: 100% (59/59), done.\u001b[K\n",
            "remote: Compressing objects: 100% (33/33), done.\u001b[K\n",
            "remote: Total 343874 (delta 27), reused 26 (delta 26), pack-reused 343815 (from 3)\u001b[K\n",
            "Receiving objects: 100% (343874/343874), 532.53 MiB | 25.76 MiB/s, done.\n",
            "Resolving deltas: 100% (239908/239908), done.\n",
            "Updating files: 100% (7620/7620), done.\n"
          ]
        }
      ],
      "source": [
        "!git clone https://github.com/opencv/opencv"
      ]
    },
    {
      "cell_type": "code",
      "execution_count": null,
      "id": "KgDyQJWVP11H",
      "metadata": {
        "colab": {
          "base_uri": "https://localhost:8080/",
          "height": 35
        },
        "id": "KgDyQJWVP11H",
        "outputId": "87d8803a-6b32-419f-94e5-12b6cd103a88"
      },
      "outputs": [
        {
          "data": {
            "application/vnd.google.colaboratory.intrinsic+json": {
              "type": "string"
            },
            "text/plain": [
              "'/usr/local/lib/python3.11/dist-packages/cv2/data/'"
            ]
          },
          "execution_count": 14,
          "metadata": {},
          "output_type": "execute_result"
        }
      ],
      "source": [
        "cv2.data.haarcascades"
      ]
    },
    {
      "cell_type": "code",
      "execution_count": null,
      "id": "IHeC3m5mDk14",
      "metadata": {
        "id": "IHeC3m5mDk14"
      },
      "outputs": [],
      "source": [
        "video_path = '/content/drive/MyDrive/ForColab/output.mp4'\n",
        "cap = cv2.VideoCapture(video_path)\n",
        "\n",
        "fps = round(cap.get(cv2.CAP_PROP_FPS))\n",
        "width = int(cap.get(cv2.CAP_PROP_FRAME_WIDTH))\n",
        "height = int(cap.get(cv2.CAP_PROP_FRAME_HEIGHT))\n",
        "\n",
        "fourcc = cv2.VideoWriter_fourcc(*'MP4V')\n",
        "out = cv2.VideoWriter('haar_output.mp4', fourcc, fps, (width, height))"
      ]
    },
    {
      "cell_type": "code",
      "source": [
        "while(cap.isOpened()):\n",
        "  ret, frame = cap.read()\n",
        "\n",
        "  if not ret:\n",
        "      break\n",
        "\n",
        "  img_gray = cv2.cvtColor(frame, cv2.COLOR_BGR2GRAY)\n",
        "  face_cascade_db = cv2.CascadeClassifier(cv2.data.haarcascades + 'haarcascade_frontalface_default.xml')\n",
        "  faces = face_cascade_db.detectMultiScale(img_gray, scaleFactor=1.1, minNeighbors=5)\n",
        "  for (x,y,w,h) in faces:\n",
        "    cv2.rectangle(frame, (x,y), (x+w, y+h), (0, 255, 0), 4)\n",
        "\n",
        "  # cv2_imshow(frame)\n",
        "  out.write(frame)\n",
        "\n",
        "cap.release()\n",
        "out.release()"
      ],
      "metadata": {
        "id": "snGZDkGQ4zm7"
      },
      "id": "snGZDkGQ4zm7",
      "execution_count": null,
      "outputs": []
    },
    {
      "cell_type": "code",
      "source": [
        "out.release()"
      ],
      "metadata": {
        "id": "cvxzBqlWmSLT"
      },
      "id": "cvxzBqlWmSLT",
      "execution_count": null,
      "outputs": []
    },
    {
      "cell_type": "code",
      "execution_count": null,
      "id": "620lzuY_ljhb",
      "metadata": {
        "id": "620lzuY_ljhb"
      },
      "outputs": [],
      "source": [
        "!cp /content/haar_output.mp4 /content/drive/MyDrive/ForColab/"
      ]
    }
  ],
  "metadata": {
    "colab": {
      "provenance": []
    },
    "kernelspec": {
      "display_name": "Python 3 (ipykernel)",
      "language": "python",
      "name": "python3"
    },
    "language_info": {
      "codemirror_mode": {
        "name": "ipython",
        "version": 3
      },
      "file_extension": ".py",
      "mimetype": "text/x-python",
      "name": "python",
      "nbconvert_exporter": "python",
      "pygments_lexer": "ipython3",
      "version": "3.10.12"
    }
  },
  "nbformat": 4,
  "nbformat_minor": 5
}